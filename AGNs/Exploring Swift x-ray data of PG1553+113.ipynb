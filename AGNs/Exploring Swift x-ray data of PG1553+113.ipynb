{
 "cells": [
  {
   "cell_type": "markdown",
   "metadata": {},
   "source": [
    "# Introduction\n",
    "PG1553+113 is a blazar at z=0.5. It was characterized in the GeV spectrum [here](https://arxiv.org/abs/0911.4252) using Fermi data. [Tramacere et al. 2007](https://www.aanda.org/articles/aa/pdf/2007/20/aa6226-06.pdf) analyzed the Swift spectrum data of 9 Bl Lac objects, including ths one. "
   ]
  },
  {
   "cell_type": "code",
   "execution_count": 18,
   "metadata": {},
   "outputs": [],
   "source": [
    "from astroquery.heasarc import Heasarc\n",
    "from astroquery.simbad import Simbad\n",
    "from astropy.io import fits as FITS\n",
    "from astropy.time import Time\n",
    "import matplotlib as mlp\n",
    "import matplotlib.pyplot as plt\n",
    "from mpl_toolkits.axes_grid1 import inset_locator\n",
    "\n",
    "import numpy as np\n",
    "import pandas as pd\n",
    "import requests\n",
    "%matplotlib inline"
   ]
  },
  {
   "cell_type": "markdown",
   "metadata": {},
   "source": [
    "# Using Astroquery\n",
    "This is a python package that can query many astronomical catalogs and databases. I queried the Swift master catalog a while ago by making a custom astropy table reader, however astroquery usage is straightforward and painless :) \n",
    "\n",
    "First I am going to look for the object I am studying (PG1553+113) on Simbad. Then I will query HEASARC Swift mission catalog. This object is thoroughly described here https://arxiv.org/pdf/1801.03335.pdf \n",
    "\n"
   ]
  },
  {
   "cell_type": "code",
   "execution_count": 19,
   "metadata": {},
   "outputs": [],
   "source": [
    "# Lets look at simbad catalog:\n",
    "result_table = Simbad.query_object(\"PG 1553+113\")"
   ]
  },
  {
   "cell_type": "code",
   "execution_count": 20,
   "metadata": {},
   "outputs": [
    {
     "data": {
      "text/html": [
       "<i>Table masked=True length=1</i>\n",
       "<table id=\"table139955045330000\" class=\"table-striped table-bordered table-condensed\">\n",
       "<thead><tr><th>MAIN_ID</th><th>RA</th><th>DEC</th><th>RA_PREC</th><th>DEC_PREC</th><th>COO_ERR_MAJA</th><th>COO_ERR_MINA</th><th>COO_ERR_ANGLE</th><th>COO_QUAL</th><th>COO_WAVELENGTH</th><th>COO_BIBCODE</th></tr></thead>\n",
       "<thead><tr><th></th><th>&quot;h:m:s&quot;</th><th>&quot;d:m:s&quot;</th><th></th><th></th><th>mas</th><th>mas</th><th>deg</th><th></th><th></th><th></th></tr></thead>\n",
       "<thead><tr><th>object</th><th>str13</th><th>str13</th><th>int16</th><th>int16</th><th>float32</th><th>float32</th><th>int16</th><th>str1</th><th>str1</th><th>object</th></tr></thead>\n",
       "<tr><td>QSO B1553+113</td><td>15 55 43.0439</td><td>+11 11 24.365</td><td>14</td><td>14</td><td>0.019</td><td>0.019</td><td>90</td><td>A</td><td>O</td><td>2018yCat.1345....0G</td></tr>\n",
       "</table>"
      ],
      "text/plain": [
       "<Table masked=True length=1>\n",
       "   MAIN_ID          RA           DEC      ... COO_WAVELENGTH     COO_BIBCODE    \n",
       "                 \"h:m:s\"       \"d:m:s\"    ...                                   \n",
       "    object        str13         str13     ...      str1             object      \n",
       "------------- ------------- ------------- ... -------------- -------------------\n",
       "QSO B1553+113 15 55 43.0439 +11 11 24.365 ...              O 2018yCat.1345....0G"
      ]
     },
     "execution_count": 20,
     "metadata": {},
     "output_type": "execute_result"
    }
   ],
   "source": [
    "result_table"
   ]
  },
  {
   "cell_type": "code",
   "execution_count": 2,
   "metadata": {},
   "outputs": [],
   "source": [
    "# Astroquery can query all heasarc missions\n",
    "missions = Heasarc.query_mission_list()"
   ]
  },
  {
   "cell_type": "code",
   "execution_count": null,
   "metadata": {},
   "outputs": [],
   "source": []
  },
  {
   "cell_type": "code",
   "execution_count": 4,
   "metadata": {
    "scrolled": true
   },
   "outputs": [
    {
     "data": {
      "text/html": [
       "<i>Table length=10</i>\n",
       "<table id=\"table139864759293824\" class=\"table-striped table-bordered table-condensed\">\n",
       "<thead><tr><th>Archive</th><th>name</th><th>Table_Description</th></tr></thead>\n",
       "<thead><tr><th>str7</th><th>str27</th><th>str80</th></tr></thead>\n",
       "<tr><td>HEASARC</td><td>a1</td><td>HEAO 1 A1 X-Ray Source Catalog</td></tr>\n",
       "<tr><td>HEASARC</td><td>a1point</td><td>HEAO 1 A1 Lightcurves</td></tr>\n",
       "<tr><td>HEASARC</td><td>a2lcpoint</td><td>HEAO 1 A2 Pointed Lightcurves</td></tr>\n",
       "<tr><td>HEASARC</td><td>a2lcscan</td><td>HEAO 1 A2 Scanned Lightcurves</td></tr>\n",
       "<tr><td>HEASARC</td><td>a2led</td><td>HEAO 1 A2 LED Catalog</td></tr>\n",
       "<tr><td>HEASARC</td><td>a2pic</td><td>HEAO 1 A2 Piccinotti Catalog</td></tr>\n",
       "<tr><td>HEASARC</td><td>a2point</td><td>HEAO 1 A2 Pointing Catalog</td></tr>\n",
       "<tr><td>HEASARC</td><td>a2rtraw</td><td>HEAO 1 A2 Raw Rates</td></tr>\n",
       "<tr><td>HEASARC</td><td>a2specback</td><td>HEAO 1 A2 Spectra Background</td></tr>\n",
       "<tr><td>HEASARC</td><td>a2spectra</td><td>HEAO 1 A2 Spectra</td></tr>\n",
       "</table>"
      ],
      "text/plain": [
       "<Table length=10>\n",
       "Archive    name          Table_Description       \n",
       "  str7    str27                str80             \n",
       "------- ---------- ------------------------------\n",
       "HEASARC         a1 HEAO 1 A1 X-Ray Source Catalog\n",
       "HEASARC    a1point          HEAO 1 A1 Lightcurves\n",
       "HEASARC  a2lcpoint  HEAO 1 A2 Pointed Lightcurves\n",
       "HEASARC   a2lcscan  HEAO 1 A2 Scanned Lightcurves\n",
       "HEASARC      a2led          HEAO 1 A2 LED Catalog\n",
       "HEASARC      a2pic   HEAO 1 A2 Piccinotti Catalog\n",
       "HEASARC    a2point     HEAO 1 A2 Pointing Catalog\n",
       "HEASARC    a2rtraw            HEAO 1 A2 Raw Rates\n",
       "HEASARC a2specback   HEAO 1 A2 Spectra Background\n",
       "HEASARC  a2spectra              HEAO 1 A2 Spectra"
      ]
     },
     "execution_count": 4,
     "metadata": {},
     "output_type": "execute_result"
    }
   ],
   "source": [
    "missions[0:10]"
   ]
  },
  {
   "cell_type": "code",
   "execution_count": 113,
   "metadata": {},
   "outputs": [],
   "source": [
    "# We are interested on swift data for the object PG 1553+113, an AGN.\n",
    "result_table = Heasarc.query_object(\"PG 1553+113\", \"swiftmastr\", fields=\"All\")"
   ]
  },
  {
   "cell_type": "code",
   "execution_count": 114,
   "metadata": {},
   "outputs": [],
   "source": [
    "result_table = result_table.to_pandas()"
   ]
  },
  {
   "cell_type": "code",
   "execution_count": 115,
   "metadata": {},
   "outputs": [
    {
     "data": {
      "text/html": [
       "<div>\n",
       "<style scoped>\n",
       "    .dataframe tbody tr th:only-of-type {\n",
       "        vertical-align: middle;\n",
       "    }\n",
       "\n",
       "    .dataframe tbody tr th {\n",
       "        vertical-align: top;\n",
       "    }\n",
       "\n",
       "    .dataframe thead th {\n",
       "        text-align: right;\n",
       "    }\n",
       "</style>\n",
       "<table border=\"1\" class=\"dataframe\">\n",
       "  <thead>\n",
       "    <tr style=\"text-align: right;\">\n",
       "      <th></th>\n",
       "      <th>NAME</th>\n",
       "      <th>OBSID</th>\n",
       "      <th>RA</th>\n",
       "      <th>DEC</th>\n",
       "      <th>START_TIME</th>\n",
       "      <th>PROCESSING_DATE</th>\n",
       "      <th>XRT_EXPOSURE</th>\n",
       "      <th>UVOT_EXPOSURE</th>\n",
       "      <th>BAT_EXPOSURE</th>\n",
       "      <th>ARCHIVE_DATE</th>\n",
       "      <th>...</th>\n",
       "      <th>UVOT_EXPO_VV</th>\n",
       "      <th>UVOT_EXPO_W1</th>\n",
       "      <th>UVOT_EXPO_W2</th>\n",
       "      <th>UVOT_EXPO_WH</th>\n",
       "      <th>XRT_EXPO_IM</th>\n",
       "      <th>XRT_EXPO_LR</th>\n",
       "      <th>XRT_EXPO_PC</th>\n",
       "      <th>XRT_EXPO_PU</th>\n",
       "      <th>XRT_EXPO_WT</th>\n",
       "      <th>SEARCH_OFFSET_</th>\n",
       "    </tr>\n",
       "  </thead>\n",
       "  <tbody>\n",
       "    <tr>\n",
       "      <th>94</th>\n",
       "      <td>b'1ES1553+113              '</td>\n",
       "      <td>b'00035021038'</td>\n",
       "      <td>238.88349</td>\n",
       "      <td>11.19077</td>\n",
       "      <td>2018-08-10</td>\n",
       "      <td>2018-08-20</td>\n",
       "      <td>1192.095</td>\n",
       "      <td>1142.834</td>\n",
       "      <td>1203.0</td>\n",
       "      <td>2018-08-21</td>\n",
       "      <td>...</td>\n",
       "      <td>94.552</td>\n",
       "      <td>189.535</td>\n",
       "      <td>378.561</td>\n",
       "      <td>0.0</td>\n",
       "      <td>0.0</td>\n",
       "      <td>0.0</td>\n",
       "      <td>1185.939</td>\n",
       "      <td>0.0</td>\n",
       "      <td>6.156</td>\n",
       "      <td>b' 2.700 (PG 1553+113)\\n'</td>\n",
       "    </tr>\n",
       "    <tr>\n",
       "      <th>77</th>\n",
       "      <td>b'1ES1553+113              '</td>\n",
       "      <td>b'00035021039'</td>\n",
       "      <td>238.87457</td>\n",
       "      <td>11.19127</td>\n",
       "      <td>2018-08-19</td>\n",
       "      <td>2018-08-29</td>\n",
       "      <td>1302.328</td>\n",
       "      <td>1277.227</td>\n",
       "      <td>1310.0</td>\n",
       "      <td>2018-08-30</td>\n",
       "      <td>...</td>\n",
       "      <td>106.777</td>\n",
       "      <td>213.763</td>\n",
       "      <td>427.768</td>\n",
       "      <td>0.0</td>\n",
       "      <td>0.0</td>\n",
       "      <td>0.0</td>\n",
       "      <td>1300.312</td>\n",
       "      <td>0.0</td>\n",
       "      <td>2.016</td>\n",
       "      <td>b' 3.225 (PG 1553+113)\\n'</td>\n",
       "    </tr>\n",
       "    <tr>\n",
       "      <th>98</th>\n",
       "      <td>b'1ES1553+113              '</td>\n",
       "      <td>b'00035021040'</td>\n",
       "      <td>238.90598</td>\n",
       "      <td>11.18059</td>\n",
       "      <td>2018-08-29</td>\n",
       "      <td>2018-09-08</td>\n",
       "      <td>1171.764</td>\n",
       "      <td>1145.791</td>\n",
       "      <td>1178.0</td>\n",
       "      <td>2018-09-09</td>\n",
       "      <td>...</td>\n",
       "      <td>93.769</td>\n",
       "      <td>187.714</td>\n",
       "      <td>374.777</td>\n",
       "      <td>0.0</td>\n",
       "      <td>0.0</td>\n",
       "      <td>0.0</td>\n",
       "      <td>1163.387</td>\n",
       "      <td>0.0</td>\n",
       "      <td>8.377</td>\n",
       "      <td>b' 1.489 (PG 1553+113)\\n'</td>\n",
       "    </tr>\n",
       "    <tr>\n",
       "      <th>277</th>\n",
       "      <td>b'1ES1553+113              '</td>\n",
       "      <td>b'00035021041'</td>\n",
       "      <td>238.88206</td>\n",
       "      <td>11.20303</td>\n",
       "      <td>2018-09-06</td>\n",
       "      <td>2018-09-16</td>\n",
       "      <td>342.163</td>\n",
       "      <td>325.835</td>\n",
       "      <td>348.0</td>\n",
       "      <td>2018-09-17</td>\n",
       "      <td>...</td>\n",
       "      <td>0.000</td>\n",
       "      <td>105.762</td>\n",
       "      <td>114.588</td>\n",
       "      <td>0.0</td>\n",
       "      <td>0.0</td>\n",
       "      <td>0.0</td>\n",
       "      <td>328.449</td>\n",
       "      <td>0.0</td>\n",
       "      <td>13.714</td>\n",
       "      <td>b' 2.889 (PG 1553+113)\\n'</td>\n",
       "    </tr>\n",
       "    <tr>\n",
       "      <th>60</th>\n",
       "      <td>b'1ES1553+113              '</td>\n",
       "      <td>b'00035021043'</td>\n",
       "      <td>238.95670</td>\n",
       "      <td>11.26145</td>\n",
       "      <td>2018-09-19</td>\n",
       "      <td>2018-09-19</td>\n",
       "      <td>1456.886</td>\n",
       "      <td>1431.785</td>\n",
       "      <td>1463.0</td>\n",
       "      <td>2018-09-30</td>\n",
       "      <td>...</td>\n",
       "      <td>114.775</td>\n",
       "      <td>229.761</td>\n",
       "      <td>459.775</td>\n",
       "      <td>0.0</td>\n",
       "      <td>0.0</td>\n",
       "      <td>0.0</td>\n",
       "      <td>1451.727</td>\n",
       "      <td>0.0</td>\n",
       "      <td>5.159</td>\n",
       "      <td>b' 4.574 (PG 1553+113)\\n'</td>\n",
       "    </tr>\n",
       "  </tbody>\n",
       "</table>\n",
       "<p>5 rows × 56 columns</p>\n",
       "</div>"
      ],
      "text/plain": [
       "                             NAME           OBSID         RA       DEC  \\\n",
       "94   b'1ES1553+113              '  b'00035021038'  238.88349  11.19077   \n",
       "77   b'1ES1553+113              '  b'00035021039'  238.87457  11.19127   \n",
       "98   b'1ES1553+113              '  b'00035021040'  238.90598  11.18059   \n",
       "277  b'1ES1553+113              '  b'00035021041'  238.88206  11.20303   \n",
       "60   b'1ES1553+113              '  b'00035021043'  238.95670  11.26145   \n",
       "\n",
       "     START_TIME PROCESSING_DATE  XRT_EXPOSURE  UVOT_EXPOSURE  BAT_EXPOSURE  \\\n",
       "94   2018-08-10      2018-08-20      1192.095       1142.834        1203.0   \n",
       "77   2018-08-19      2018-08-29      1302.328       1277.227        1310.0   \n",
       "98   2018-08-29      2018-09-08      1171.764       1145.791        1178.0   \n",
       "277  2018-09-06      2018-09-16       342.163        325.835         348.0   \n",
       "60   2018-09-19      2018-09-19      1456.886       1431.785        1463.0   \n",
       "\n",
       "    ARCHIVE_DATE            ...              UVOT_EXPO_VV  UVOT_EXPO_W1  \\\n",
       "94    2018-08-21            ...                    94.552       189.535   \n",
       "77    2018-08-30            ...                   106.777       213.763   \n",
       "98    2018-09-09            ...                    93.769       187.714   \n",
       "277   2018-09-17            ...                     0.000       105.762   \n",
       "60    2018-09-30            ...                   114.775       229.761   \n",
       "\n",
       "     UVOT_EXPO_W2  UVOT_EXPO_WH XRT_EXPO_IM  XRT_EXPO_LR  XRT_EXPO_PC  \\\n",
       "94        378.561           0.0         0.0          0.0     1185.939   \n",
       "77        427.768           0.0         0.0          0.0     1300.312   \n",
       "98        374.777           0.0         0.0          0.0     1163.387   \n",
       "277       114.588           0.0         0.0          0.0      328.449   \n",
       "60        459.775           0.0         0.0          0.0     1451.727   \n",
       "\n",
       "     XRT_EXPO_PU  XRT_EXPO_WT             SEARCH_OFFSET_  \n",
       "94           0.0        6.156  b' 2.700 (PG 1553+113)\\n'  \n",
       "77           0.0        2.016  b' 3.225 (PG 1553+113)\\n'  \n",
       "98           0.0        8.377  b' 1.489 (PG 1553+113)\\n'  \n",
       "277          0.0       13.714  b' 2.889 (PG 1553+113)\\n'  \n",
       "60           0.0        5.159  b' 4.574 (PG 1553+113)\\n'  \n",
       "\n",
       "[5 rows x 56 columns]"
      ]
     },
     "execution_count": 115,
     "metadata": {},
     "output_type": "execute_result"
    }
   ],
   "source": [
    "result_table[\"START_TIME\"] = Time(result_table.START_TIME, format=\"mjd\", out_subfmt=\"date\").iso\n",
    "result_table[\"PROCESSING_DATE\"] = Time(result_table.PROCESSING_DATE, format=\"mjd\", out_subfmt=\"date\").iso\n",
    "result_table[\"ARCHIVE_DATE\"] = Time(result_table.ARCHIVE_DATE, format=\"mjd\", out_subfmt=\"date\").iso\n",
    "result_table.sort_values(\"START_TIME\").tail()"
   ]
  },
  {
   "cell_type": "code",
   "execution_count": 116,
   "metadata": {},
   "outputs": [
    {
     "data": {
      "text/plain": [
       "b'N         '    288\n",
       "Name: TDRSS_FLAG, dtype: int64"
      ]
     },
     "execution_count": 116,
     "metadata": {},
     "output_type": "execute_result"
    }
   ],
   "source": [
    "result_table.TDRSS_FLAG.value_counts()\n",
    "# It seems none of these observations have TDRSS data."
   ]
  },
  {
   "cell_type": "code",
   "execution_count": 128,
   "metadata": {},
   "outputs": [
    {
     "data": {
      "text/plain": [
       "{'Total N. Observations = ': 288,\n",
       " 'Xrt Im mode == 0s': 288,\n",
       " 'Photodiode Low-Rate == 0s': 287,\n",
       " 'Photodiode Piled-Up == 0s': 288}"
      ]
     },
     "execution_count": 128,
     "metadata": {},
     "output_type": "execute_result"
    }
   ],
   "source": [
    "{\n",
    "    \"Total N. Observations = \": len(result_table),\n",
    "    \"Xrt Im mode == 0s\": sum(result_table.XRT_EXPO_IM==0),\n",
    "    \"Photodiode Low-Rate == 0s\": sum(result_table.XRT_EXPO_LR==0), \n",
    "    \"Photodiode Piled-Up == 0s\": sum(result_table.XRT_EXPO_PU==0)\n",
    "}\n",
    "# It seems there is no photodiode LR, PU data and Image data for these events (just 1 has XRT-LR data)"
   ]
  },
  {
   "cell_type": "markdown",
   "metadata": {},
   "source": [
    "# Observation data\n",
    "\n",
    "The previous table is a list of observations recorded by Swift mission. Each one of these observations can be fetched from Swift archive ftp server (and other sources such as HEASARC). \n",
    "\n",
    "I am following this documentation, from Swift, to explore this data: https://swift.gsfc.nasa.gov/analysis/xrt_swguide_v1_2.pdf\n",
    "\n",
    "I am focusing on the latest observation, seen on 2018-09-06, obsid = 00035021041. The data for this event can be found here: ftp://legacy.gsfc.nasa.gov/swift/data/obs/2018_09/00035021041. I am also focusing only on the x-ray instrument (xrt) for now."
   ]
  },
  {
   "cell_type": "code",
   "execution_count": null,
   "metadata": {
    "scrolled": true
   },
   "outputs": [],
   "source": [
    "! wget --recursive --no-parent \"ftp://legacy.gsfc.nasa.gov/swift/data/obs/2018_09/00035021041/xrt\" -P \"~/DATOS/Swift/\" "
   ]
  },
  {
   "cell_type": "code",
   "execution_count": 13,
   "metadata": {},
   "outputs": [],
   "source": [
    "# Window timed\n",
    "wtimg = FITS.open(\"../../../DATOS/Swift/legacy.gsfc.nasa.gov/swift/data/obs/2018_09/00035021041/xrt/products/sw00035021041xwt_sk.img.gz\")\n",
    "# Photon count\n",
    "pcimg = FITS.open(\"../../../DATOS/Swift/legacy.gsfc.nasa.gov/swift/data/obs/2018_09/00035021041/xrt/products/sw00035021041xpc_sk.img.gz\")"
   ]
  },
  {
   "cell_type": "code",
   "execution_count": 14,
   "metadata": {},
   "outputs": [
    {
     "name": "stdout",
     "output_type": "stream",
     "text": [
      "Filename: ../../../DATOS/Swift/legacy.gsfc.nasa.gov/swift/data/obs/2018_09/00035021041/xrt/products/sw00035021041xwt_sk.img.gz\n",
      "No.    Name      Ver    Type      Cards   Dimensions   Format\n",
      "  0  PRIMARY       1 PrimaryHDU     340   (1000, 1000)   int32   \n",
      "  1  GTI           1 BinTableHDU     65   1R x 2C   [1D, 1D]   \n",
      "Filename: ../../../DATOS/Swift/legacy.gsfc.nasa.gov/swift/data/obs/2018_09/00035021041/xrt/products/sw00035021041xpc_sk.img.gz\n",
      "No.    Name      Ver    Type      Cards   Dimensions   Format\n",
      "  0  PRIMARY       1 PrimaryHDU     445   (1000, 1000)   int32   \n",
      "  1  GTI           1 BinTableHDU     65   1R x 2C   [1D, 1D]   \n",
      "  2  SRCLIST       1 BinTableHDU    107   1R x 11C   [1E, 1E, 1E, 1E, 1E, 1D, 1D, 1E, 1E, 1E, 1E]   \n"
     ]
    },
    {
     "data": {
      "text/plain": [
       "(None, None)"
      ]
     },
     "execution_count": 14,
     "metadata": {},
     "output_type": "execute_result"
    }
   ],
   "source": [
    "wtimg.info(), pcimg.info()"
   ]
  },
  {
   "cell_type": "code",
   "execution_count": 15,
   "metadata": {
    "scrolled": true
   },
   "outputs": [
    {
     "name": "stdout",
     "output_type": "stream",
     "text": [
      "WT Image data GTI and cols\n",
      "[(5.57896071e+08, 5.57896085e+08)]\n",
      "ColDefs(\n",
      "    name = 'START'; format = '1D'; unit = 's'\n",
      "    name = 'STOP'; format = '1D'; unit = 's'\n",
      ")\n",
      "PC Image data GTI and cols\n",
      "[(5.57896087e+08, 5.57896413e+08)]\n",
      "ColDefs(\n",
      "    name = 'START'; format = '1D'; unit = 's'\n",
      "    name = 'STOP'; format = '1D'; unit = 's'\n",
      ")\n",
      "PC Source list info\n",
      "[(1.1051989, 0.06397975, 429.1128, 479.07895, 1.01664, 238.92975069, 11.18899953, nan, 29.4664, 0., 17.274197)]\n",
      "ColDefs(\n",
      "    name = 'SRCRATE'; format = '1E'; unit = 'count/s'\n",
      "    name = 'SRCRATE_ERR'; format = '1E'; unit = 'count/s'\n",
      "    name = 'X'; format = '1E'; unit = 'pixel'\n",
      "    name = 'Y'; format = '1E'; unit = 'pixel'\n",
      "    name = 'VIGNET'; format = '1E'\n",
      "    name = 'RA'; format = '1D'; unit = 'deg'\n",
      "    name = 'DEC'; format = '1D'; unit = 'deg'\n",
      "    name = 'ERRRAD'; format = '1E'; unit = 'arcsec'\n",
      "    name = 'HBOXSIZE'; format = '1E'; unit = 'arcsec'\n",
      "    name = 'PROB'; format = '1E'\n",
      "    name = 'SNR'; format = '1E'\n",
      ")\n"
     ]
    }
   ],
   "source": [
    "print(\"WT Image data GTI and cols\")\n",
    "print(wtimg[1].data)\n",
    "print(wtimg[1].columns)\n",
    "print(\"PC Image data GTI and cols\")\n",
    "print(pcimg[1].data)\n",
    "print(pcimg[1].columns)\n",
    "print(\"PC Source list info\")\n",
    "print(pcimg[2].data)\n",
    "print(pcimg[2].columns)"
   ]
  },
  {
   "cell_type": "code",
   "execution_count": 50,
   "metadata": {},
   "outputs": [
    {
     "name": "stdout",
     "output_type": "stream",
     "text": [
      "Bounding box for wt image:  [(490, 510), (414, 596)]\n",
      "Bounding box for pc image:  [(210, 795), (229, 805)]\n"
     ]
    }
   ],
   "source": [
    "# When plotting the image data it was too difficult to see the actual informative points. \n",
    "# Therefore here I am looking their location to plot a window surrounding them.\n",
    "wtbbox = [(min(x),max(x)) for x in np.where(wtimg[0].data>0)]\n",
    "print(\"Bounding box for wt image: \", wtbbox)\n",
    "pcbbox = [(min(x),max(x)) for x in np.where(pcimg[0].data>0)]\n",
    "print(\"Bounding box for pc image: \", pcbbox)"
   ]
  },
  {
   "cell_type": "code",
   "execution_count": 80,
   "metadata": {},
   "outputs": [
    {
     "name": "stderr",
     "output_type": "stream",
     "text": [
      "/home/guillermo/.local/lib/python3.6/site-packages/ipykernel_launcher.py:4: RuntimeWarning: divide by zero encountered in log\n",
      "  after removing the cwd from sys.path.\n",
      "/home/guillermo/.local/lib/python3.6/site-packages/ipykernel_launcher.py:15: RuntimeWarning: divide by zero encountered in log\n",
      "  from ipykernel import kernelapp as app\n",
      "/usr/local/lib/python3.6/dist-packages/matplotlib/figure.py:2267: UserWarning: This figure includes Axes that are not compatible with tight_layout, so results might be incorrect.\n",
      "  warnings.warn(\"This figure includes Axes that are not compatible \"\n"
     ]
    },
    {
     "data": {
      "image/png": "[encoded data removed]",
      "text/plain": [
       "<Figure size 720x1008 with 6 Axes>"
      ]
     },
     "metadata": {},
     "output_type": "display_data"
    }
   ],
   "source": [
    "mlp.rcParams[\"figure.figsize\"] = (10,14)\n",
    "ax = plt.subplot(2,1,1)\n",
    "plt.title(\"WT Image (log)\")\n",
    "plt.imshow(np.log(wtimg[0].data[wtbbox[0][0]:wtbbox[0][1], wtbbox[1][0]:wtbbox[1][1]]), \n",
    "           extent =(wtbbox[1][0],wtbbox[1][1], wtbbox[0][1],wtbbox[0][0]) )\n",
    "plt.colorbar(shrink = 0.4)\n",
    "ax_mini = inset_locator. inset_axes(ax,width=2, height=0.5,loc=1,\n",
    "                                   bbox_to_anchor=(1.0, -1), bbox_transform=ax.transAxes)\n",
    "ax_mini.set_title(\"WT Image histogram\")\n",
    "ax_mini.hist(np.ndarray.flatten(wtimg[0].data[wtbbox[0][0]:wtbbox[0][1], wtbbox[1][0]:wtbbox[1][1]]))\n",
    "ax_mini.set_yscale(\"log\")\n",
    "ax = plt.subplot(2,1,2)\n",
    "plt.title(\"PC Image (log)\")\n",
    "# I am narrowing a bit the region to plot, so it looks better\n",
    "plt.imshow(np.log(pcimg[0].data[pcbbox[0][0]+100:pcbbox[0][1]-250, pcbbox[1][0]+100:pcbbox[1][1]-250]),\n",
    "          extent =(pcbbox[1][0]+100,pcbbox[1][1]-250, pcbbox[0][1]-250,pcbbox[0][0]+100), \n",
    "          )\n",
    "plt.grid()\n",
    "plt.colorbar(shrink=0.4)\n",
    "ax_mini = inset_locator. inset_axes(ax,width=3, height=1, loc= 2, borderpad = 4)\n",
    "ax_mini.set_title(\"PC Image histogram\")\n",
    "ax_mini.hist(np.ndarray.flatten(pcimg[0].data[pcbbox[0][0]:pcbbox[0][1], pcbbox[1][0]:pcbbox[1][1]]))\n",
    "ax_mini.set_yscale(\"log\")\n",
    "plt.tight_layout()"
   ]
  },
  {
   "cell_type": "markdown",
   "metadata": {},
   "source": [
    "## Event files\n",
    "\n",
    "Lets read now the event file for this same observation."
   ]
  },
  {
   "cell_type": "code",
   "execution_count": 81,
   "metadata": {},
   "outputs": [],
   "source": [
    "event = FITS.open(\"/home/guillermo/DATOS/Swift/legacy.gsfc.nasa.gov/swift/data/obs/2018_09/00035021041/xrt/event/sw00035021041xpcw3po_cl.evt.gz\")"
   ]
  },
  {
   "cell_type": "code",
   "execution_count": 82,
   "metadata": {},
   "outputs": [
    {
     "name": "stdout",
     "output_type": "stream",
     "text": [
      "Filename: /home/guillermo/DATOS/Swift/legacy.gsfc.nasa.gov/swift/data/obs/2018_09/00035021041/xrt/event/sw00035021041xpcw3po_cl.evt.gz\n",
      "No.    Name      Ver    Type      Cards   Dimensions   Format\n",
      "  0  PRIMARY       1 PrimaryHDU     108   ()      \n",
      "  1  EVENTS        1 BinTableHDU    493   465R x 11C   [1D, 1I, 1I, 1I, 1I, 1I, 1I, 1J, 1J, 1I, 16X]   \n",
      "  2  GTI           1 BinTableHDU    106   1R x 2C   [1D, 1D]   \n",
      "  3  BADPIX        1 BinTableHDU    126   220R x 6C   [1I, 1I, 1I, 1I, I, 16X]   \n",
      "  4  BIASDIFF      1 BinTableHDU    153   14R x 13C   [1D, 1I, 1I, 1I, 1I, 1I, 1I, 1J, 1J, 1J, 1J, 1J, 1J]   \n"
     ]
    }
   ],
   "source": [
    "event.info()"
   ]
  },
  {
   "cell_type": "code",
   "execution_count": 83,
   "metadata": {},
   "outputs": [
    {
     "data": {
      "text/plain": [
       "ColDefs(\n",
       "    name = 'TIME'; format = '1D'; unit = 's'\n",
       "    name = 'X'; format = '1I'; unit = 'pixel'; null = -1; coord_type = 'RA---TAN'; coord_unit = 'deg'; coord_ref_point = 500.5; coord_ref_value = 238.8821; coord_inc = -0.0006548089\n",
       "    name = 'Y'; format = '1I'; unit = 'pixel'; null = -1; coord_type = 'DEC--TAN'; coord_unit = 'deg'; coord_ref_point = 500.5; coord_ref_value = 11.20303; coord_inc = 0.0006548089\n",
       "    name = 'RAWX'; format = '1I'; unit = 'pixel'; coord_type = 'RAWX'; coord_ref_point = 300.5; coord_ref_value = 299.5; coord_inc = 1\n",
       "    name = 'RAWY'; format = '1I'; unit = 'pixel'; coord_type = 'RAWY'; coord_ref_point = 300.5; coord_ref_value = 299.5; coord_inc = 1\n",
       "    name = 'DETX'; format = '1I'; unit = 'pixel'; coord_type = 'DETX'; coord_unit = 'mm'; coord_ref_point = 300.5; coord_ref_value = 0.0; coord_inc = 0.04\n",
       "    name = 'DETY'; format = '1I'; unit = 'pixel'; coord_type = 'DETY'; coord_unit = 'mm'; coord_ref_point = 300.5; coord_ref_value = 0.0; coord_inc = 0.04\n",
       "    name = 'PHA'; format = '1J'; unit = 'chan'\n",
       "    name = 'PI'; format = '1J'; unit = 'chan'; null = -4095\n",
       "    name = 'GRADE'; format = '1I'\n",
       "    name = 'STATUS'; format = '16X'\n",
       ")"
      ]
     },
     "execution_count": 83,
     "metadata": {},
     "output_type": "execute_result"
    }
   ],
   "source": [
    "event[1].columns"
   ]
  },
  {
   "cell_type": "code",
   "execution_count": 85,
   "metadata": {},
   "outputs": [
    {
     "data": {
      "text/plain": [
       "XTENSION= 'BINTABLE'           / binary table extension                         \n",
       "BITPIX  =                    8 / 8-bit bytes                                    \n",
       "NAXIS   =                    2 / 2-dimensional binary table                     \n",
       "NAXIS1  =                   32 / width of table in bytes                        \n",
       "NAXIS2  =                  465 / Number of events                               \n",
       "PCOUNT  =                    0 / size of special data area:                     \n",
       "GCOUNT  =                    1 / one data group (required keyword)              \n",
       "TFIELDS =                   11 / number of fields in each row                   \n",
       "TTYPE1  = 'TIME    '           / Time of events                                 \n",
       "TFORM1  = '1D      '           / data format of field                           \n",
       "TUNIT1  = 's       '           / physical unit of field                         \n",
       "TTYPE2  = 'X       '           / Event X position Sky coordinates               \n",
       "TFORM2  = '1I      '           / data format of field                           \n",
       "TUNIT2  = 'pixel   '           / physical unit of field                         \n",
       "TLMIN2  =                    1 / Minimum value for X column                     \n",
       "TLMAX2  =                 1000 / Maximum value for X column                     \n",
       "TTYPE3  = 'Y       '           / Event Y position Sky coordinates               \n",
       "TFORM3  = '1I      '           / data format of field                           \n",
       "TUNIT3  = 'pixel   '           / physical unit of field                         \n",
       "TLMIN3  =                    1 / Minimum value for Y column                     \n",
       "TLMAX3  =                 1000 / Maximum value for Y column                     \n",
       "TTYPE4  = 'RAWX    '           / Event X position RAW coordinates               \n",
       "TFORM4  = '1I      '           / data format of field                           \n",
       "TUNIT4  = 'pixel   '           / physical unit of field                         \n",
       "TLMIN4  =                    0 / minimum legal value in the column              \n",
       "TLMAX4  =                  599 / maximum legal value in the column              \n",
       "TTYPE5  = 'RAWY    '           / Event Y position RAW coordinates               \n",
       "TFORM5  = '1I      '           / data format of field                           \n",
       "TUNIT5  = 'pixel   '           / physical unit of field                         \n",
       "TLMIN5  =                    0 / minimum legal value in the column              \n",
       "TLMAX5  =                  599 / maximum legal value in the column              \n",
       "TTYPE6  = 'DETX    '           / Event X position DET coordinates               \n",
       "TFORM6  = '1I      '           / data format of field                           \n",
       "TUNIT6  = 'pixel   '           / physical unit of field                         \n",
       "TLMIN6  =                    1 / Minimum value for DETX column                  \n",
       "TLMAX6  =                  600 / Maximum value for DETX column                  \n",
       "TTYPE7  = 'DETY    '           / Event Y position DET coordinates               \n",
       "TFORM7  = '1I      '           / data format of field                           \n",
       "TUNIT7  = 'pixel   '           / physical unit of field                         \n",
       "TLMIN7  =                    1 / Minimum value for DETY column                  \n",
       "TLMAX7  =                  600 / Maximum value for DETY column                  \n",
       "TTYPE8  = 'PHA     '           / Pulse Height Analyzer after event recognition  \n",
       "TFORM8  = '1J      '           / data format of field                           \n",
       "TUNIT8  = 'chan    '           / physical unit of field                         \n",
       "TLMIN8  =                    0 / minimum legal value in the column              \n",
       "TLMAX8  =                 4095 / maximum legal value in the column              \n",
       "TTYPE9  = 'PI      '           / Pulse invariant                                \n",
       "TFORM9  = '1J      '           / data format of field                           \n",
       "TUNIT9  = 'chan    '           / physical unit of field                         \n",
       "TLMIN9  =                    0 / minimum legal value in the column              \n",
       "TTYPE10 = 'GRADE   '           / Event Grade                                    \n",
       "TFORM10 = '1I      '           / data format of field                           \n",
       "TTYPE11 = 'STATUS  '           / Event Quality Flag                             \n",
       "TFORM11 = '16X     '           / data format of field                           \n",
       "TCTYP4  = 'RAWX    '           / WCS  axis type                                 \n",
       "TCRVL4  =  2.9950000000000E+02 / WCS reference value                            \n",
       "TCDLT4  =                    1 / WCS coordinate increment                       \n",
       "TCRPX4  =  3.0050000000000E+02 / WCS Reference point                            \n",
       "TCTYP5  = 'RAWY    '           / WCS  axis type                                 \n",
       "TCRVL5  =  2.9950000000000E+02 / WCS reference value                            \n",
       "TCDLT5  =                    1 / WCS coordinate increment                       \n",
       "TCRPX5  =  3.0050000000000E+02 / WCS Reference point                            \n",
       "EXTNAME = 'EVENTS  '           / Name                                           \n",
       "HDUCLASS= 'OGIP    '           / Format conforms to OGIP standards              \n",
       "HDUCLAS1= 'EVENTS  '           / Event extension                                \n",
       "MTYPE1  = 'SKY     '           / DM Keyword: Descriptor name                    \n",
       "MFORM1  = 'X, Y    '           / [pixel]                                        \n",
       "MTYPE2  = 'DET     '           / DM Keyword: Descriptor name                    \n",
       "MFORM2  = 'DETX, DETY'         / [mm]                                           \n",
       "MTYPE3  = 'RAW     '           / DM Keyword: Descriptor name                    \n",
       "MFORM3  = 'RAWX, RAWY'         / [pixel]                                        \n",
       "TIMESYS = 'TT      '           / time measured from                             \n",
       "MJDREFI =                51910 / MJD reference day                              \n",
       "MJDREFF = 7.428703700000000E-04 / MJD reference (fraction of day)               \n",
       "TIMEREF = 'LOCAL   '           / reference time                                 \n",
       "TASSIGN = 'SATELLITE'          / Time assigned by clock                         \n",
       "TIMEUNIT= 's       '           / unit for time keywords                         \n",
       "TIERRELA=               1.0E-8 / [s/s] relative errors expressed as rate        \n",
       "TIERABSO=                  1.0 / [s] timing  precision  in seconds              \n",
       "TSTART  = 5.578960866356233E+08 / time start                                    \n",
       "TSTOP   = 5.578964125872717E+08 / time stop                                     \n",
       "DATE-OBS= '2018-09-06T03:08:01' / Start date of observations                    \n",
       "DATE-END= '2018-09-06T03:13:30' / End date of observations                      \n",
       "CLOCKAPP=                    F / default                                        \n",
       "TELAPSE = 3.259516483545303E+02 / elapsed time                                  \n",
       "ONTIME  = 3.259489998817444E+02 / On-source time                                \n",
       "LIVETIME= 3.246542547226477E+02 / Deadtime corrected on-source time             \n",
       "EXPOSURE= 3.246542547226477E+02 / Exposure time                                 \n",
       "DEADC   =       9.96027768E-01 / Deadtime correction                            \n",
       "TIMEPIXR=  0.0000000000000E+00 / Bin time beginning=0 middle=0.5 end=1          \n",
       "TIMEDEL =  2.5073000000000E+00 / Data time resolution                           \n",
       "TELESCOP= 'SWIFT   '           / Telescope (mission) name                       \n",
       "INSTRUME= 'XRT     '           / Instrument name                                \n",
       "DATAMODE= 'PHOTON  '           / Datamode                                       \n",
       "OBS_ID  = '00035021041'        / Observation ID                                 \n",
       "TARG_ID =                35021 / Target ID                                      \n",
       "SEG_NUM =                   41 / Segment number                                 \n",
       "EQUINOX =            2.000E+03 / Equinox of celestial coord system              \n",
       "RADECSYS= 'FK5     '           / celestial coord system                         \n",
       "OBS_MODE= 'POINTING'           / default                                        "
      ]
     },
     "execution_count": 85,
     "metadata": {},
     "output_type": "execute_result"
    }
   ],
   "source": [
    "event[1].header[0:100]"
   ]
  },
  {
   "cell_type": "code",
   "execution_count": 86,
   "metadata": {},
   "outputs": [
    {
     "data": {
      "text/plain": [
       "FITS_rec([],\n",
       "         dtype=(numpy.record, [('TIME', '>f8'), ('X', '>i2'), ('Y', '>i2'), ('RAWX', '>i2'), ('RAWY', '>i2'), ('DETX', '>i2'), ('DETY', '>i2'), ('PHA', '>i4'), ('PI', '>i4'), ('GRADE', '>i2'), ('STATUS', 'u1', (2,))]))"
      ]
     },
     "execution_count": 86,
     "metadata": {},
     "output_type": "execute_result"
    }
   ],
   "source": [
    "# Are there pixels outside the GTI window?\n",
    "# Nope. Perhaps they are in bad pixels array.\n",
    "gti = event[2].data[0]\n",
    "event[1].data[(event[1].data.TIME < gti[0]) & (event[1].data.TIME > gti[1])]"
   ]
  },
  {
   "cell_type": "code",
   "execution_count": 89,
   "metadata": {},
   "outputs": [
    {
     "data": {
      "text/plain": [
       "(array([52., 48., 47., 46., 54., 38., 40., 51., 43., 46.]),\n",
       " array([5.57896087e+08, 5.57896119e+08, 5.57896151e+08, 5.57896184e+08,\n",
       "        5.57896216e+08, 5.57896248e+08, 5.57896281e+08, 5.57896313e+08,\n",
       "        5.57896345e+08, 5.57896378e+08, 5.57896410e+08]),\n",
       " <a list of 10 Patch objects>)"
      ]
     },
     "execution_count": 89,
     "metadata": {},
     "output_type": "execute_result"
    },
    {
     "data": {
      "image/png": "[encoded data removed]",
      "text/plain": [
       "<Figure size 720x360 with 1 Axes>"
      ]
     },
     "metadata": {},
     "output_type": "display_data"
    }
   ],
   "source": [
    "# Let's see the distr of the time. This time is given in seconds. \n",
    "# Note the window timed event lasts ~400s =  6.7 minutes, and the pixels are detected\n",
    "# kind of uniformly during the event.\n",
    "mlp.rcParams[\"figure.figsize\"] = (10,5)\n",
    "plt.hist([datum[0] for datum in event[1].data])"
   ]
  },
  {
   "cell_type": "code",
   "execution_count": 95,
   "metadata": {},
   "outputs": [
    {
     "data": {
      "text/plain": [
       "Text(0.5,0,'E_KeV = PI/100')"
      ]
     },
     "execution_count": 95,
     "metadata": {},
     "output_type": "execute_result"
    },
    {
     "data": {
      "image/png": "[encoded data removed]",
      "text/plain": [
       "<Figure size 720x360 with 1 Axes>"
      ]
     },
     "metadata": {},
     "output_type": "display_data"
    }
   ],
   "source": [
    "# Let's see the distr of the time. This time is given in seconds. \n",
    "# Note the window timed event lasts ~400s =  6.7 minutes, and the pixels are detected\n",
    "# kind of uniformly during the event.\n",
    "mlp.rcParams[\"figure.figsize\"] = (10,5)\n",
    "plt.hist(event[1].data.PI/100)\n",
    "plt.xlabel(\"E_KeV = PI/100\")"
   ]
  },
  {
   "cell_type": "code",
   "execution_count": 70,
   "metadata": {},
   "outputs": [
    {
     "data": {
      "text/plain": [
       "ColDefs(\n",
       "    name = 'RAWX'; format = '1I'; unit = 'pixel'\n",
       "    name = 'RAWY'; format = '1I'; unit = 'pixel'\n",
       "    name = 'Amp'; format = '1I'\n",
       "    name = 'TYPE'; format = '1I'\n",
       "    name = 'YEXTENT'; format = 'I'\n",
       "    name = 'BADFLAG'; format = '16X'\n",
       ")"
      ]
     },
     "execution_count": 70,
     "metadata": {},
     "output_type": "execute_result"
    }
   ],
   "source": [
    "# Columns in the bad pixel table. This is described in the docs.\n",
    "event[3].columns"
   ]
  },
  {
   "cell_type": "code",
   "execution_count": 130,
   "metadata": {},
   "outputs": [],
   "source": [
    "eventData = event[1].data"
   ]
  },
  {
   "cell_type": "code",
   "execution_count": 131,
   "metadata": {},
   "outputs": [],
   "source": [
    "eventData = pd.DataFrame(data = eventData.tolist(), columns = eventData.names)"
   ]
  },
  {
   "cell_type": "code",
   "execution_count": 139,
   "metadata": {
    "scrolled": false
   },
   "outputs": [
    {
     "data": {
      "text/plain": [
       "Text(0.5,1,'Photon counter event plot of Pulse Invariant values')"
      ]
     },
     "execution_count": 139,
     "metadata": {},
     "output_type": "execute_result"
    },
    {
     "data": {
      "image/png": "[encoded data removed]",
      "text/plain": [
       "<Figure size 1080x720 with 2 Axes>"
      ]
     },
     "metadata": {},
     "output_type": "display_data"
    }
   ],
   "source": [
    "mlp.rcParams[\"figure.figsize\"] = (15,10)\n",
    "eventData = eventData[eventData.PI < 999]\n",
    "plt.scatter(429.1128, 479.0789, 3.14 * 50**2, \"black\", alpha = 0.2)\n",
    "plt.scatter(eventData.X, eventData.Y, 12, \n",
    "            c = eventData.PI, cmap=\"RdYlGn\", alpha = 0.7 )\n",
    "plt.colorbar()\n",
    "plt.title(\"Photon counter event plot of Pulse Invariant values\")"
   ]
  },
  {
   "cell_type": "code",
   "execution_count": 159,
   "metadata": {},
   "outputs": [],
   "source": [
    "objectCoords = (429.1128, 479.0789)\n",
    "eventData[\"within30\"] = \\\n",
    "    np.sqrt((eventData.X-objectCoords[0])**2 + (eventData.Y-objectCoords[1])**2) < 30"
   ]
  },
  {
   "cell_type": "code",
   "execution_count": 183,
   "metadata": {},
   "outputs": [
    {
     "name": "stderr",
     "output_type": "stream",
     "text": [
      "/home/guillermo/.local/lib/python3.6/site-packages/pandas/core/indexes/category.py:148: RuntimeWarning: Values and categories have different dtypes. Did you mean to use\n",
      "'Categorical.from_codes(codes, categories)'?\n",
      "  dtype=dtype)\n",
      "/home/guillermo/.local/lib/python3.6/site-packages/pandas/core/indexes/category.py:148: RuntimeWarning: None of the categories were found in values. Did you mean to use\n",
      "'Categorical.from_codes(codes, categories)'?\n",
      "  dtype=dtype)\n"
     ]
    },
    {
     "data": {
      "text/plain": [
       "array([<matplotlib.axes._subplots.AxesSubplot object at 0x7f34b7ca1a58>,\n",
       "       <matplotlib.axes._subplots.AxesSubplot object at 0x7f34b7c57b00>],\n",
       "      dtype=object)"
      ]
     },
     "execution_count": 183,
     "metadata": {},
     "output_type": "execute_result"
    },
    {
     "data": {
      "image/png": "[encoded data removed]",
      "text/plain": [
       "<Figure size 504x360 with 2 Axes>"
      ]
     },
     "metadata": {},
     "output_type": "display_data"
    }
   ],
   "source": [
    "mlp.rcParams[\"figure.figsize\"] = (7,5)\n",
    "hists = eventData.groupby(\"within30\").PI.apply(lambda x: pd.cut(x, list(range(0,1000,100))).value_counts()).unstack(0)\n",
    "hists.plot.bar(subplots=True)\n",
    "# Histograms of pixels within 30 pixels of the object center\" and pixels outside the region"
   ]
  },
  {
   "cell_type": "code",
   "execution_count": 181,
   "metadata": {},
   "outputs": [
    {
     "data": {
      "text/plain": [
       "<matplotlib.axes._subplots.AxesSubplot at 0x7f34b7d9fc88>"
      ]
     },
     "execution_count": 181,
     "metadata": {},
     "output_type": "execute_result"
    },
    {
     "data": {
      "image/png": "[encoded data removed]",
      "text/plain": [
       "<Figure size 504x360 with 1 Axes>"
      ]
     },
     "metadata": {},
     "output_type": "display_data"
    }
   ],
   "source": [
    "(hists[True] - hists[False]).plot.bar(color=\"black\", title=\"Difference between background and object distr of PI\")"
   ]
  },
  {
   "cell_type": "code",
   "execution_count": null,
   "metadata": {},
   "outputs": [],
   "source": []
  }
 ],
 "metadata": {
  "kernelspec": {
   "display_name": "Python 3",
   "language": "python",
   "name": "python3"
  },
  "language_info": {
   "codemirror_mode": {
    "name": "ipython",
    "version": 3
   },
   "file_extension": ".py",
   "mimetype": "text/x-python",
   "name": "python",
   "nbconvert_exporter": "python",
   "pygments_lexer": "ipython3",
   "version": "3.6.3"
  }
 },
 "nbformat": 4,
 "nbformat_minor": 2
}
